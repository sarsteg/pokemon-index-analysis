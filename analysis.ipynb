{
 "cells": [
  {
   "attachments": {},
   "cell_type": "markdown",
   "metadata": {},
   "source": [
    "# Pokemon Analysis"
   ]
  },
  {
   "cell_type": "code",
   "execution_count": null,
   "metadata": {},
   "outputs": [],
   "source": [
    "# Import libraries\n",
    "import pandas as pd\n",
    "import numpy as np\n",
    "import matplotlib.pyplot as plt\n",
    "import seaborn as sns\n",
    "import os"
   ]
  },
  {
   "cell_type": "code",
   "execution_count": null,
   "metadata": {},
   "outputs": [],
   "source": [
    "# Create a dataframe from the csv file saved in the data folder\n",
    "df = pd.read_csv('data/Pokedex_Ver_SV2.csv')\n",
    "\n",
    "\n",
    "# Create a dataframe to count the unique number of pokemon (merging forms)\n",
    "\n",
    "# Create a dataframe with all of the pokemon\n"
   ]
  },
  {
   "attachments": {},
   "cell_type": "markdown",
   "metadata": {},
   "source": [
    "## Question 1\n",
    "\n",
    "Count of pokemon (0)\n",
    "* Pokedex: Unique pokemon names (pokedex entry)\n",
    "* National_dex: All unique forms (whole dataset)\n",
    "\n",
    "Generation (1) - Andres\n",
    "* Mode\n",
    "* Bar Chart of each generation\n",
    "~ Comparision of same type of pokemon across generations (t-test); Create a dataframe that has the 1 generation and the last generation released ~\n",
    "\n",
    "Type (2) - Andres\n",
    "* Percentage, frequencies, bar chart - How many are in each type?\n",
    "* Create column to combine type 1 and type 2 columns (alphabetical order on combination)\n",
    "* Bar chart of each type combination\n",
    "* Focus on sections of the data that are interesting\n",
    "* Which combinations are missing or not well represented?\n",
    "* Which combinations are the most frequent?\n",
    "\n",
    "~Category (1)~\n",
    "~* Bar chart with each category~\n",
    "\n",
    "Height & Weight (1) - Sarah\n",
    "* Scatterplot, with regression line (correlation)\n",
    "* Point out outliers if they exist\n",
    "* Using gender as a grouping variable for scatterplot\n",
    "\n",
    "~Color (1)~\n",
    "~* Pie chart of each color~\n",
    "\n",
    "Gender encounter rate (1) - Sarah\n",
    "* Overlapping Normal plots?\n",
    "* Check if the unique values are the same for gender encounter\n",
    "* Add photos for the different encounter rates\n",
    "\n",
    "Get Rate (1-2) - Sarah\n",
    "* mean, median, mode, standard deviation\n",
    "* Histogram, boxplot, normal plot\n",
    "* Which pokemon have the highest and lowest catch rates?\n",
    "\n",
    "~Mega (0)~\n",
    "~* How many are mega?~\n",
    "~* How many are not mega?~\n",
    "~* Additional descriptives for mega and non-mega pokemon~\n",
    "\n",
    "Stats on pokemon (HP, Attack, Defense, SP_Attack, SP_Defense) (5) - Kevin\n",
    "* mean, median, mode, standard deviation\n",
    "* Histogram, boxplot, normal plot\n",
    "* Which pokemon have the highest and lowest for each?\n",
    "* Correlation between stats"
   ]
  },
  {
   "attachments": {},
   "cell_type": "markdown",
   "metadata": {},
   "source": [
    "## Question 2"
   ]
  },
  {
   "attachments": {},
   "cell_type": "markdown",
   "metadata": {},
   "source": [
    "## Question 3"
   ]
  },
  {
   "attachments": {},
   "cell_type": "markdown",
   "metadata": {},
   "source": [
    "## Question 4"
   ]
  }
 ],
 "metadata": {
  "kernelspec": {
   "display_name": "dev",
   "language": "python",
   "name": "python3"
  },
  "language_info": {
   "name": "python",
   "version": "3.10.10"
  },
  "orig_nbformat": 4
 },
 "nbformat": 4,
 "nbformat_minor": 2
}
